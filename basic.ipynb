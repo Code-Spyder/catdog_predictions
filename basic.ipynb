{
 "cells": [
  {
   "cell_type": "code",
   "execution_count": 8,
   "id": "2f7f05c4",
   "metadata": {},
   "outputs": [],
   "source": [
    "import cv2\n",
    "import os\n",
    "from tensorflow.keras.models import load_model"
   ]
  },
  {
   "cell_type": "code",
   "execution_count": 2,
   "id": "db4a6e86",
   "metadata": {},
   "outputs": [],
   "source": [
    "import tensorflow"
   ]
  },
  {
   "cell_type": "code",
   "execution_count": 3,
   "id": "42555bc5",
   "metadata": {},
   "outputs": [
    {
     "data": {
      "text/plain": [
       "'2.9.1'"
      ]
     },
     "execution_count": 3,
     "metadata": {},
     "output_type": "execute_result"
    }
   ],
   "source": [
    "tensorflow.__version__"
   ]
  },
  {
   "cell_type": "code",
   "execution_count": 4,
   "id": "5b210b49",
   "metadata": {},
   "outputs": [],
   "source": [
    "model = load_model('../cat_dog_model1.h5')"
   ]
  },
  {
   "cell_type": "code",
   "execution_count": 16,
   "id": "ade5d777",
   "metadata": {},
   "outputs": [],
   "source": [
    "def predict(path):\n",
    "    img = cv2.imread(path)\n",
    "    img = cv2.resize(img,(224,224))/255\n",
    "    y = model.predict_on_batch(img.reshape(1,224,224,3)).argmax()\n",
    "    return 'cat' if y==0 else 'dog'"
   ]
  },
  {
   "cell_type": "code",
   "execution_count": 18,
   "id": "b1166017",
   "metadata": {},
   "outputs": [
    {
     "name": "stdout",
     "output_type": "stream",
     "text": [
      "c1.jpg cat\n",
      "c2.jpg dog\n",
      "c3.jpg dog\n",
      "d1.jpg dog\n",
      "d2.jpg dog\n",
      "d3.jpg dog\n"
     ]
    }
   ],
   "source": [
    "imgs = os.listdir('../../../../datasets/cats_and_dogs/')\n",
    "for img in imgs:\n",
    "    y = predict('../../../../datasets/cats_and_dogs/'+img)\n",
    "    print(img,y)"
   ]
  },
  {
   "cell_type": "code",
   "execution_count": null,
   "id": "1fce4175",
   "metadata": {},
   "outputs": [],
   "source": []
  }
 ],
 "metadata": {
  "kernelspec": {
   "display_name": "Python [conda env:tf_env_16]",
   "language": "python",
   "name": "conda-env-tf_env_16-py"
  },
  "language_info": {
   "codemirror_mode": {
    "name": "ipython",
    "version": 3
   },
   "file_extension": ".py",
   "mimetype": "text/x-python",
   "name": "python",
   "nbconvert_exporter": "python",
   "pygments_lexer": "ipython3",
   "version": "3.8.13"
  }
 },
 "nbformat": 4,
 "nbformat_minor": 5
}
